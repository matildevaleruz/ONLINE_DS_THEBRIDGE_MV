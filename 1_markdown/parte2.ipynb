{
 "cells": [
  {
   "cell_type": "markdown",
   "metadata": {
    "id": "xItaI1NfJ0RQ"
   },
   "source": [
    "<img src = \"./img/TheBridge_logo_RGB_color.jpg\" width = 300>"
   ]
  },
  {
   "cell_type": "markdown",
   "metadata": {
    "id": "c1l-p1XLJ0RS"
   },
   "source": [
    "# Markdown (II)\n",
    "\n"
   ]
  },
  {
   "cell_type": "markdown",
   "metadata": {
    "id": "8J3Gp0LjJ0RT"
   },
   "source": [
    "## 6. Saltos de Línea \n",
    "Para poder separar párrafos y líneas en una misma celda, Markdown es un poco especial. No detecta los saltos de línea tal cual. Tenemos que indicarselo de nuevo con una \"marca\"."
   ]
  },
  {
   "cell_type": "markdown",
   "metadata": {
    "id": "LuCFFDDgJ0RT"
   },
   "source": [
    "Línea 1\n",
    "Línea 2"
   ]
  },
  {
   "cell_type": "markdown",
   "metadata": {
    "id": "pP_LWoRzJ0RU"
   },
   "source": [
    "La marca para indicarle a Markdown que debe considerar una línea nueva son dos espacios seguidos."
   ]
  },
  {
   "cell_type": "markdown",
   "metadata": {
    "id": "jMCL0K6FJ0RU"
   },
   "source": [
    "Línea 1   \n",
    "Línea 2"
   ]
  },
  {
   "cell_type": "markdown",
   "metadata": {
    "id": "FG9Dhq-YJ0RV"
   },
   "source": [
    "## 7. Listas\n",
    "Hay dos opciones. **Listas ordenadas o sin ordenar**. Si queremos listas ordenadas, simplemente usamos números"
   ]
  },
  {
   "cell_type": "markdown",
   "metadata": {
    "id": "-bqWmXTGJ0RV"
   },
   "source": [
    "1. Primer elemento\n",
    "2. Segundo elemento\n",
    "3. Tercer elemento"
   ]
  },
  {
   "cell_type": "markdown",
   "metadata": {
    "id": "Tp3UhabCJ0RV"
   },
   "source": [
    "Lista no ordenada"
   ]
  },
  {
   "cell_type": "markdown",
   "metadata": {
    "id": "JCJHIp09J0RW"
   },
   "source": [
    "- Elemento x\n",
    "* Elemento y\n",
    "+ Elemento z\n"
   ]
  },
  {
   "cell_type": "markdown",
   "metadata": {
    "id": "uICluCXNJ0RW"
   },
   "source": [
    "## 8. Código de Python\n",
    "Es otra manera de enseñar código. Se suele usar cuando lo único que quieres es mostrar un fragmento de código, pero sin ejecutarlo\n"
   ]
  },
  {
   "cell_type": "markdown",
   "metadata": {
    "id": "rPJVJPnAJ0RW"
   },
   "source": [
    "```python\n",
    "var = \"esto es una variable\"\n",
    "```"
   ]
  },
  {
   "cell_type": "markdown",
   "metadata": {
    "id": "EemkLBneJ0RW"
   },
   "source": [
    "## 9. Líneas de separación\n",
    "Para separar secciones utilizamos líneas horizontales. Hay varias opciones en markdown para insertar una lína horizontal. En este ejemplo se usa o asteriscos o guiones.\n"
   ]
  },
  {
   "cell_type": "markdown",
   "metadata": {},
   "source": [
    "---\n",
    "***"
   ]
  },
  {
   "cell_type": "markdown",
   "metadata": {
    "id": "lHk2ld3cJ0RW"
   },
   "source": [
    "## 10. Links y enlaces\n",
    "Para crear enlaces externos, a páginas web, se usa la sintaxis `[texto](link)`\n",
    "\n",
    "Primero con los links a internet, en la parte de enlace [RODEA ENLACE] pon el identificador que quieras, y entre paréntesis el link como aquí [SEÑALA LA LINEA DE ABAJO]\n",
    "\n",
    "[enlace con texto cambiado](http://www.google.es)\n",
    "\n",
    "Y si lo vamos a usar mucho podemos definir un enlace que lo abrevie como se ve a continuación con mi_web\n",
    "\n",
    "Tambien podemos definir [un enlace][mi_web].\n",
    "\n",
    "A una [web][mi_web] a la que podemos referenciar mas adelante\n",
    "\n",
    "[mi_web]: http://www.google.es\n",
    "\n",
    "\n",
    "Por otro lado, podemos definir links que vayan a otras partes del Notebook, como por ejemplo a una cabecera concreta. Si haces clik en [este enlace](#Markdown-(II)), volverás al inicio del notebook. Con [este otro enlace](#6.-Saltos-de-Línea) vas al primer apartado.\n",
    "\n",
    "¿Cómo linkarlos? Copiamos el nombre de la cabecera, sustituimos espacios por guiones, le añadimos en hashtag al principio, y eso es lo que va dentro de los paréntesis.\n"
   ]
  },
  {
   "cell_type": "markdown",
   "metadata": {
    "id": "TwLNTL78J0RX"
   },
   "source": [
    "## 11. Imágenes\n",
    "Si tenemos una imagen en el ordenador, en general le vamos a decir a Markdown que apunte a esa imagen. Lo normal es tener todas las imagenes agrupadas en una carpeta dentro de tu repositorio.\n",
    "\n",
    "Usamos la sintaxis `![nombre cualqueira](ruta de la imagen)`."
   ]
  },
  {
   "cell_type": "markdown",
   "metadata": {
    "id": "080BXbhOJ0RX"
   },
   "source": [
    "La imagen tiene que estar en la misma carpeta que este notebook, debido a la sintaxis `./imagen.png`. Con el `./` Jupyter entiende que tiene que buscar en la carpeta de este notebook:\n",
    "\n",
    "1. `./imagen.png` si la imagen esta en el mismo directorio donde está este Notebook\n",
    "2. `./img/imagen.png` si dentro del directorio donde se encuentra este Notebook, hay una carpeta llamada \"img\", y dentro se encuentra la imagen."
   ]
  },
  {
   "cell_type": "markdown",
   "metadata": {
    "id": "cbE1xFFlJ0RX"
   },
   "source": [
    "#### Imagen en el mismo directorio que el Notebook"
   ]
  },
  {
   "cell_type": "markdown",
   "metadata": {
    "id": "_RBoMx6PJ0RX"
   },
   "source": [
    "![imagen en el mismo directorio](./imagen.png)"
   ]
  },
  {
   "cell_type": "markdown",
   "metadata": {
    "id": "eCuw3-7dJ0RX"
   },
   "source": [
    "#### Imagen en el directorio \"img\""
   ]
  },
  {
   "cell_type": "markdown",
   "metadata": {
    "id": "RoJIdjcPJ0RX"
   },
   "source": [
    "![imagen en el subdirectorio img](./img/imagen.png)"
   ]
  },
  {
   "cell_type": "markdown",
   "metadata": {
    "id": "BttpYVIjJ0RX"
   },
   "source": [
    "Otra forma de cargar imágenes controlando además el tamaño es emplear la siguiente sintaxis"
   ]
  },
  {
   "cell_type": "markdown",
   "metadata": {
    "id": "LDYyW6aOJ0RY"
   },
   "source": [
    "<img src=\"./img/imagen.png\" width = 400>\n"
   ]
  },
  {
   "cell_type": "markdown",
   "metadata": {
    "id": "r0FbarAKJ0RY"
   },
   "source": [
    "En las versiones actuales puedes copiar y pegar una imagen en una celda Markdown y esta se adjunta al notebook. Prueba a hacerlo con alguna imagen de las que tengas en tu ordenador."
   ]
  },
  {
   "attachments": {
    "imagen.png": {
     "image/png": "[encoded data removed]"
    }
   },
   "cell_type": "markdown",
   "metadata": {
    "vscode": {
     "languageId": "plaintext"
    }
   },
   "source": [
    "![imagen.png](attachment:imagen.png)"
   ]
  },
  {
   "cell_type": "markdown",
   "metadata": {
    "id": "kwqoEbXDJ0RY"
   },
   "source": [
    "## 12. Documentación\n",
    "Hay muchísimas guías para escribir markdown en Internet. Con lo visto en este notebook tienes más que de sobra para darle color y forma a tus Notebooks de Python... De Python, de R, documentación para GitHub, tu blog de data scientist... Como te dije al principio, markdown es un lenguaje muy popular al que se le puede sacar mucho jugo.\n",
    "\n",
    "Aun así, si quieres aprender más de este lenguaje, te dejo algunos enlaces interesantes.\n",
    "\n",
    "[Este](https://www.markdownguide.org/basic-syntax/)\n",
    "\n",
    "[Este otro](https://daringfireball.net/projects/markdown/syntax)\n",
    "\n",
    "[Y este también](https://medium.com/analytics-vidhya/the-ultimate-markdown-guide-for-jupyter-notebook-d5e5abf728fd)"
   ]
  }
 ],
 "metadata": {
  "colab": {
   "provenance": []
  },
  "kernelspec": {
   "display_name": "Python 3 (ipykernel)",
   "language": "python",
   "name": "python3"
  },
  "language_info": {
   "codemirror_mode": {
    "name": "ipython",
    "version": 3
   },
   "file_extension": ".py",
   "mimetype": "text/x-python",
   "name": "python",
   "nbconvert_exporter": "python",
   "pygments_lexer": "ipython3",
   "version": "3.12.3"
  },
  "vscode": {
   "interpreter": {
    "hash": "252189e587d1e2aeba4a06e91fa71896c7a7f6e22e918b9407c7cde4ef2d5985"
   }
  }
 },
 "nbformat": 4,
 "nbformat_minor": 1
}
